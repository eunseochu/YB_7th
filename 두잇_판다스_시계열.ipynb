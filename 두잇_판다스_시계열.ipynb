{
  "nbformat": 4,
  "nbformat_minor": 0,
  "metadata": {
    "colab": {
      "provenance": [],
      "authorship_tag": "ABX9TyNAVgbRxlYshfzYYLQqIjvo",
      "include_colab_link": true
    },
    "kernelspec": {
      "name": "python3",
      "display_name": "Python 3"
    },
    "language_info": {
      "name": "python"
    }
  },
  "cells": [
    {
      "cell_type": "markdown",
      "metadata": {
        "id": "view-in-github",
        "colab_type": "text"
      },
      "source": [
        "<a href=\"https://colab.research.google.com/github/eunseochu/YB_7th/blob/main/%EB%91%90%EC%9E%87_%ED%8C%90%EB%8B%A4%EC%8A%A4_%EC%8B%9C%EA%B3%84%EC%97%B4.ipynb\" target=\"_parent\"><img src=\"https://colab.research.google.com/assets/colab-badge.svg\" alt=\"Open In Colab\"/></a>"
      ]
    },
    {
      "cell_type": "markdown",
      "source": [
        "# **12-1) datetime 오브젝트**"
      ],
      "metadata": {
        "id": "sudaDJnDnNxJ"
      }
    },
    {
      "cell_type": "markdown",
      "source": [
        "#### **1) datetime 라이브러리** <br/>\n",
        "날짜와 시간을 처리하는 등의 다양한 기능을 제공하는 파이썬 라이브러리\n",
        "- 날짜를 처리하는 date 오브젝트\n",
        "- 시간을 처리하는 time 오브젝트\n",
        "- 날짜와 시간을 모두 처리하는 datetime 오브젝트\n"
      ],
      "metadata": {
        "id": "tWOOtRH9nl1L"
      }
    },
    {
      "cell_type": "markdown",
      "source": [
        "#### **2) datetime 오브젝트 사용하기** <br/>"
      ],
      "metadata": {
        "id": "e0XfhCJvoPeW"
      }
    },
    {
      "cell_type": "markdown",
      "source": [
        "> **1. datetime 라이브러리 불러오기** <br/>\n",
        "datetime 오브젝트를 사용하기 위해 datetime 라이브러리를 불러옴"
      ],
      "metadata": {
        "id": "XFMxCi7SoW-A"
      }
    },
    {
      "cell_type": "code",
      "source": [
        "from datetime import datetime"
      ],
      "metadata": {
        "id": "DG98am3toUSX"
      },
      "execution_count": 1,
      "outputs": []
    },
    {
      "cell_type": "markdown",
      "source": [
        "> **2. now, today 메서드** <br/>\n",
        "현재 시간 출력"
      ],
      "metadata": {
        "id": "QTTDAWObow_q"
      }
    },
    {
      "cell_type": "code",
      "source": [
        "now1 = datetime.now()\n",
        "print(now1)\n",
        "\n",
        "now2 = datetime.today()\n",
        "print(now2)"
      ],
      "metadata": {
        "colab": {
          "base_uri": "https://localhost:8080/"
        },
        "id": "oslqooGqng4D",
        "outputId": "e131628b-4ea0-476d-cf2d-6fb7caa8dd48"
      },
      "execution_count": 2,
      "outputs": [
        {
          "output_type": "stream",
          "name": "stdout",
          "text": [
            "2022-10-09 16:47:08.156029\n",
            "2022-10-09 16:47:08.157682\n"
          ]
        }
      ]
    },
    {
      "cell_type": "markdown",
      "source": [
        "> **3. datetime 오브젝트 생성** <br/>\n",
        "시간을 직접 입력하여 인자로 전달"
      ],
      "metadata": {
        "id": "cWprq8d2pL-N"
      }
    },
    {
      "cell_type": "code",
      "source": [
        "t1 = datetime.now()\n",
        "t2 = datetime(1970, 1, 1)\n",
        "t3 = datetime(1970, 12, 12, 13, 24, 34)\n",
        "\n",
        "print(t1) # now 메서드는 밀리초단위까지\n",
        "print(t2)\n",
        "print(t3)"
      ],
      "metadata": {
        "colab": {
          "base_uri": "https://localhost:8080/"
        },
        "id": "emaYIG2opUdR",
        "outputId": "e10bbaf0-707c-4d16-9a3e-710d1931877c"
      },
      "execution_count": 4,
      "outputs": [
        {
          "output_type": "stream",
          "name": "stdout",
          "text": [
            "2022-10-09 16:48:25.649644\n",
            "1970-01-01 00:00:00\n",
            "1970-12-12 13:24:34\n"
          ]
        }
      ]
    },
    {
      "cell_type": "markdown",
      "source": [
        "> **4. 시간 계산** <br/>\n",
        "두 datetime 오브젝트의 차이를 구해 시간 계산 가능"
      ],
      "metadata": {
        "id": "ArwpO0duplOp"
      }
    },
    {
      "cell_type": "code",
      "source": [
        "diff1 = t1 - t2\n",
        "\n",
        "print(diff1)\n",
        "print(type(diff1))\n",
        "\n",
        "diff2 = t2 - t1\n",
        "\n",
        "print(diff2)\n",
        "print(type(diff2))"
      ],
      "metadata": {
        "colab": {
          "base_uri": "https://localhost:8080/"
        },
        "id": "3WZID-wtpzcx",
        "outputId": "0413bf76-4f67-4e6e-c0e5-8f7d84a4d93a"
      },
      "execution_count": 8,
      "outputs": [
        {
          "output_type": "stream",
          "name": "stdout",
          "text": [
            "19274 days, 16:48:25.649644\n",
            "<class 'datetime.timedelta'>\n",
            "-19275 days, 7:11:34.350356\n",
            "<class 'datetime.timedelta'>\n"
          ]
        }
      ]
    },
    {
      "cell_type": "markdown",
      "source": [
        "#### **3) 테슬라의 주식 데이터로 시간 계산하기** <br/>\n",
        "pandas-datareader 라이브러리로 주식 데이터를 불러와 진행"
      ],
      "metadata": {
        "id": "OhEk5BHlqKf4"
      }
    },
    {
      "cell_type": "code",
      "source": [
        "import pandas as pd"
      ],
      "metadata": {
        "id": "AzItRYudrC1q"
      },
      "execution_count": 47,
      "outputs": []
    },
    {
      "cell_type": "code",
      "source": [
        "! pip install pandas-datareader"
      ],
      "metadata": {
        "colab": {
          "base_uri": "https://localhost:8080/"
        },
        "id": "6e6WAZOlqWjT",
        "outputId": "0ef6a839-6805-47d8-b84d-962986de0aa8"
      },
      "execution_count": 66,
      "outputs": [
        {
          "output_type": "stream",
          "name": "stdout",
          "text": [
            "Looking in indexes: https://pypi.org/simple, https://us-python.pkg.dev/colab-wheels/public/simple/\n",
            "Requirement already satisfied: pandas-datareader in /usr/local/lib/python3.7/dist-packages (0.9.0)\n",
            "Requirement already satisfied: requests>=2.19.0 in /usr/local/lib/python3.7/dist-packages (from pandas-datareader) (2.23.0)\n",
            "Requirement already satisfied: lxml in /usr/local/lib/python3.7/dist-packages (from pandas-datareader) (4.9.1)\n",
            "Requirement already satisfied: pandas>=0.23 in /usr/local/lib/python3.7/dist-packages (from pandas-datareader) (1.3.5)\n",
            "Requirement already satisfied: python-dateutil>=2.7.3 in /usr/local/lib/python3.7/dist-packages (from pandas>=0.23->pandas-datareader) (2.8.2)\n",
            "Requirement already satisfied: pytz>=2017.3 in /usr/local/lib/python3.7/dist-packages (from pandas>=0.23->pandas-datareader) (2022.4)\n",
            "Requirement already satisfied: numpy>=1.17.3 in /usr/local/lib/python3.7/dist-packages (from pandas>=0.23->pandas-datareader) (1.21.6)\n",
            "Requirement already satisfied: six>=1.5 in /usr/local/lib/python3.7/dist-packages (from python-dateutil>=2.7.3->pandas>=0.23->pandas-datareader) (1.15.0)\n",
            "Requirement already satisfied: urllib3!=1.25.0,!=1.25.1,<1.26,>=1.21.1 in /usr/local/lib/python3.7/dist-packages (from requests>=2.19.0->pandas-datareader) (1.24.3)\n",
            "Requirement already satisfied: chardet<4,>=3.0.2 in /usr/local/lib/python3.7/dist-packages (from requests>=2.19.0->pandas-datareader) (3.0.4)\n",
            "Requirement already satisfied: certifi>=2017.4.17 in /usr/local/lib/python3.7/dist-packages (from requests>=2.19.0->pandas-datareader) (2022.9.24)\n",
            "Requirement already satisfied: idna<3,>=2.5 in /usr/local/lib/python3.7/dist-packages (from requests>=2.19.0->pandas-datareader) (2.10)\n"
          ]
        }
      ]
    },
    {
      "cell_type": "markdown",
      "source": [
        "> **1. 데이터 저장** <br/>\n",
        "get_data_qunnal 메서드에 TSLA라는 문자열을 전달하여 테슬라의 주식 데이터를 내려 받은 후, <br/>\n",
        "to_csv 메서드를 통해 data 폴더 안에 'tesla_stock_quandl.csv'라는 이름으로 저장"
      ],
      "metadata": {
        "id": "cGZtm_E2qa0j"
      }
    },
    {
      "cell_type": "code",
      "source": [
        "pd.core.common.is_list_like = pd.api.types.is_list_like\n",
        "import pandas_datareader as pdr\n",
        "\n",
        "# tesla에는 데이터 프레임이 저장\n",
        "tesla = pdr.get_data_quandl('TSLA', api_key='RPCW9Add5pxCBZcWJBSs')\n",
        "\n",
        "# tesla에 저장된 데이터프레임을 파일로 저장\n",
        "tesla.to_csv('/content/sample_data/tesla_stock_quandl.csv')"
      ],
      "metadata": {
        "id": "ejB_DOZzq7Wf"
      },
      "execution_count": 79,
      "outputs": []
    },
    {
      "cell_type": "markdown",
      "source": [
        "> **2. 자료 확인** <br/>\n",
        "tesla 데이터프레임의 Date 열은 문자열로 저장되어있음"
      ],
      "metadata": {
        "id": "Nqi2x888trGx"
      }
    },
    {
      "cell_type": "code",
      "source": [
        "print(tesla.head())"
      ],
      "metadata": {
        "colab": {
          "base_uri": "https://localhost:8080/"
        },
        "id": "tLq78QGauH9r",
        "outputId": "4426986a-3aa0-4c1e-e57c-dd106cd4a147"
      },
      "execution_count": 80,
      "outputs": [
        {
          "output_type": "stream",
          "name": "stdout",
          "text": [
            "              Open    High     Low   Close      Volume  ExDividend  \\\n",
            "Date                                                                 \n",
            "2018-03-27  304.00  304.27  277.18  279.18  13696168.0         0.0   \n",
            "2018-03-26  307.34  307.59  291.36  304.18   8324639.0         0.0   \n",
            "2018-03-23  311.25  311.61  300.45  301.54   6600538.0         0.0   \n",
            "2018-03-22  313.89  318.82  308.18  309.10   4914307.0         0.0   \n",
            "2018-03-21  310.25  322.44  310.19  316.53   5927881.0         0.0   \n",
            "\n",
            "            SplitRatio  AdjOpen  AdjHigh  AdjLow  AdjClose   AdjVolume  \n",
            "Date                                                                    \n",
            "2018-03-27         1.0   304.00   304.27  277.18    279.18  13696168.0  \n",
            "2018-03-26         1.0   307.34   307.59  291.36    304.18   8324639.0  \n",
            "2018-03-23         1.0   311.25   311.61  300.45    301.54   6600538.0  \n",
            "2018-03-22         1.0   313.89   318.82  308.18    309.10   4914307.0  \n",
            "2018-03-21         1.0   310.25   322.44  310.19    316.53   5927881.0  \n"
          ]
        }
      ]
    },
    {
      "cell_type": "markdown",
      "source": [
        "> **3. 자료형 변환** <br/>\n",
        "Date 열을 **Datetime 형으로 변환해야 시간 계산이 가능**\n",
        "- read_csv 메서드로 데이터 집합을 불러올 때 parse_dates 인자에 Date 열 전달"
      ],
      "metadata": {
        "id": "0_jnzlcAu7iK"
      }
    },
    {
      "cell_type": "code",
      "source": [
        "tesla = pd.read_csv('/content/sample_data/tesla_stock_quandl.csv', parse_dates=[0])\n",
        "print(tesla.info())"
      ],
      "metadata": {
        "colab": {
          "base_uri": "https://localhost:8080/"
        },
        "id": "cKujbLGhvZwd",
        "outputId": "341c6fad-07ab-416a-e2b4-0a0cecb8a9a2"
      },
      "execution_count": 93,
      "outputs": [
        {
          "output_type": "stream",
          "name": "stdout",
          "text": [
            "<class 'pandas.core.frame.DataFrame'>\n",
            "RangeIndex: 115 entries, 0 to 114\n",
            "Data columns (total 13 columns):\n",
            " #   Column      Non-Null Count  Dtype         \n",
            "---  ------      --------------  -----         \n",
            " 0   Date        115 non-null    datetime64[ns]\n",
            " 1   Open        115 non-null    float64       \n",
            " 2   High        115 non-null    float64       \n",
            " 3   Low         115 non-null    float64       \n",
            " 4   Close       115 non-null    float64       \n",
            " 5   Volume      115 non-null    float64       \n",
            " 6   ExDividend  115 non-null    float64       \n",
            " 7   SplitRatio  115 non-null    float64       \n",
            " 8   AdjOpen     115 non-null    float64       \n",
            " 9   AdjHigh     115 non-null    float64       \n",
            " 10  AdjLow      115 non-null    float64       \n",
            " 11  AdjClose    115 non-null    float64       \n",
            " 12  AdjVolume   115 non-null    float64       \n",
            "dtypes: datetime64[ns](1), float64(12)\n",
            "memory usage: 11.8 KB\n",
            "None\n"
          ]
        }
      ]
    },
    {
      "cell_type": "markdown",
      "source": [
        "> **4. 데이터 추출** <br/>\n",
        "datetime 오브젝트는 dt 접근자 사용 가능\n",
        "- 불린 추출로 2018년 3월 데이터 추출"
      ],
      "metadata": {
        "id": "9MZuA80nvyCf"
      }
    },
    {
      "cell_type": "code",
      "source": [
        "print(tesla.loc[(tesla.Date.dt.year == 2018) & (tesla.Date.dt.month == 3)])"
      ],
      "metadata": {
        "colab": {
          "base_uri": "https://localhost:8080/"
        },
        "id": "PboIL1JGv5m3",
        "outputId": "32d4bbd0-2083-41a6-bf06-b81b0263a26a"
      },
      "execution_count": 84,
      "outputs": [
        {
          "output_type": "stream",
          "name": "stdout",
          "text": [
            "         Date    Open    High       Low   Close      Volume  ExDividend  \\\n",
            "0  2018-03-27  304.00  304.27  277.1800  279.18  13696168.0         0.0   \n",
            "1  2018-03-26  307.34  307.59  291.3600  304.18   8324639.0         0.0   \n",
            "2  2018-03-23  311.25  311.61  300.4500  301.54   6600538.0         0.0   \n",
            "3  2018-03-22  313.89  318.82  308.1800  309.10   4914307.0         0.0   \n",
            "4  2018-03-21  310.25  322.44  310.1900  316.53   5927881.0         0.0   \n",
            "5  2018-03-20  314.87  316.25  308.7600  310.55   4726182.0         0.0   \n",
            "6  2018-03-19  316.50  320.75  309.6700  313.56   7440766.0         0.0   \n",
            "7  2018-03-16  325.96  327.40  319.0700  321.35   6058612.0         0.0   \n",
            "8  2018-03-15  329.38  332.85  321.1000  325.60   6366922.0         0.0   \n",
            "9  2018-03-14  336.76  339.81  323.9300  326.63   7932511.0         0.0   \n",
            "10 2018-03-13  344.92  345.12  336.2635  341.84   5932110.0         0.0   \n",
            "11 2018-03-12  328.61  347.21  326.5000  345.51   8212156.0         0.0   \n",
            "12 2018-03-09  324.10  328.49  322.3700  327.17   5479716.0         0.0   \n",
            "13 2018-03-08  332.86  333.30  326.2740  329.10   3476944.0         0.0   \n",
            "14 2018-03-07  325.44  332.50  321.7400  332.30   5007297.0         0.0   \n",
            "15 2018-03-06  333.75  336.37  327.0300  328.20   4285744.0         0.0   \n",
            "16 2018-03-05  332.39  337.75  329.2929  333.35   3823769.0         0.0   \n",
            "17 2018-03-02  326.98  335.22  322.9700  335.12   5092829.0         0.0   \n",
            "18 2018-03-01  345.01  348.67  330.0700  330.93   6885601.0         0.0   \n",
            "\n",
            "    SplitRatio  AdjOpen  AdjHigh    AdjLow  AdjClose   AdjVolume  \n",
            "0          1.0   304.00   304.27  277.1800    279.18  13696168.0  \n",
            "1          1.0   307.34   307.59  291.3600    304.18   8324639.0  \n",
            "2          1.0   311.25   311.61  300.4500    301.54   6600538.0  \n",
            "3          1.0   313.89   318.82  308.1800    309.10   4914307.0  \n",
            "4          1.0   310.25   322.44  310.1900    316.53   5927881.0  \n",
            "5          1.0   314.87   316.25  308.7600    310.55   4726182.0  \n",
            "6          1.0   316.50   320.75  309.6700    313.56   7440766.0  \n",
            "7          1.0   325.96   327.40  319.0700    321.35   6058612.0  \n",
            "8          1.0   329.38   332.85  321.1000    325.60   6366922.0  \n",
            "9          1.0   336.76   339.81  323.9300    326.63   7932511.0  \n",
            "10         1.0   344.92   345.12  336.2635    341.84   5932110.0  \n",
            "11         1.0   328.61   347.21  326.5000    345.51   8212156.0  \n",
            "12         1.0   324.10   328.49  322.3700    327.17   5479716.0  \n",
            "13         1.0   332.86   333.30  326.2740    329.10   3476944.0  \n",
            "14         1.0   325.44   332.50  321.7400    332.30   5007297.0  \n",
            "15         1.0   333.75   336.37  327.0300    328.20   4285744.0  \n",
            "16         1.0   332.39   337.75  329.2929    333.35   3823769.0  \n",
            "17         1.0   326.98   335.22  322.9700    335.12   5092829.0  \n",
            "18         1.0   345.01   348.67  330.0700    330.93   6885601.0  \n"
          ]
        }
      ]
    },
    {
      "cell_type": "markdown",
      "source": [
        "#### **4) datetime 오브젝트와 인덱스 - DatetimeIndex** <br/>\n",
        "datetime 오브젝트를 데이터프레임의 인덱스로 설정하면 원하는 시간의 데이터를 바로 추출 가능"
      ],
      "metadata": {
        "id": "RsTjw4mGzseI"
      }
    },
    {
      "cell_type": "markdown",
      "source": [
        "> **1. 인덱스 설정** <br/>\n",
        "Date 열을 tesla 데이터프레임의 인덱스로 지정"
      ],
      "metadata": {
        "id": "f__SsUgo0noZ"
      }
    },
    {
      "cell_type": "code",
      "source": [
        "tesla.index = tesla['Date']\n",
        "print(tesla.index)"
      ],
      "metadata": {
        "colab": {
          "base_uri": "https://localhost:8080/"
        },
        "id": "q_ESajic0vFK",
        "outputId": "d825e988-8845-4da4-9e31-1bafe14247c5"
      },
      "execution_count": 73,
      "outputs": [
        {
          "output_type": "stream",
          "name": "stdout",
          "text": [
            "DatetimeIndex(['2018-03-27', '2018-03-26', '2018-03-23', '2018-03-22',\n",
            "               '2018-03-21', '2018-03-20', '2018-03-19', '2018-03-16',\n",
            "               '2018-03-15', '2018-03-14',\n",
            "               ...\n",
            "               '2017-10-23', '2017-10-20', '2017-10-19', '2017-10-18',\n",
            "               '2017-10-17', '2017-10-16', '2017-10-13', '2017-10-12',\n",
            "               '2017-10-11', '2017-10-10'],\n",
            "              dtype='datetime64[ns]', name='Date', length=115, freq=None)\n"
          ]
        }
      ]
    },
    {
      "cell_type": "markdown",
      "source": [
        "> **2. 데이터 추출** <br/>\n",
        "datetime 오브젝트를 인덱스로 지정해 원하는 시간의 데이터 바로 추출 가능"
      ],
      "metadata": {
        "id": "WjYzZhDu1TTS"
      }
    },
    {
      "cell_type": "code",
      "source": [
        "# 2018년 데이터 추출\n",
        "print(tesla['2018'].iloc[:5, :5])"
      ],
      "metadata": {
        "colab": {
          "base_uri": "https://localhost:8080/"
        },
        "id": "Z0X5dCp60u_1",
        "outputId": "55cc58fb-7537-4a31-ecef-0f8e49b568ef"
      },
      "execution_count": 75,
      "outputs": [
        {
          "output_type": "stream",
          "name": "stdout",
          "text": [
            "                 Date    Open    High     Low   Close\n",
            "Date                                                 \n",
            "2018-03-27 2018-03-27  304.00  304.27  277.18  279.18\n",
            "2018-03-26 2018-03-26  307.34  307.59  291.36  304.18\n",
            "2018-03-23 2018-03-23  311.25  311.61  300.45  301.54\n",
            "2018-03-22 2018-03-22  313.89  318.82  308.18  309.10\n",
            "2018-03-21 2018-03-21  310.25  322.44  310.19  316.53\n"
          ]
        },
        {
          "output_type": "stream",
          "name": "stderr",
          "text": [
            "/usr/local/lib/python3.7/dist-packages/ipykernel_launcher.py:2: FutureWarning: Indexing a DataFrame with a datetimelike index using a single string to slice the rows, like `frame[string]`, is deprecated and will be removed in a future version. Use `frame.loc[string]` instead.\n",
            "  \n"
          ]
        }
      ]
    },
    {
      "cell_type": "code",
      "source": [
        "# 2017년 10월 데이터 추출\n",
        "print(tesla['2017-10'].iloc[:, :5])"
      ],
      "metadata": {
        "colab": {
          "base_uri": "https://localhost:8080/"
        },
        "id": "0D3J_y6d1pK7",
        "outputId": "60fdf97f-5688-469c-8bc2-2073d17328dc"
      },
      "execution_count": 76,
      "outputs": [
        {
          "output_type": "stream",
          "name": "stdout",
          "text": [
            "                 Date    Open      High       Low   Close\n",
            "Date                                                     \n",
            "2017-10-31 2017-10-31  320.23  331.9500  320.1800  331.53\n",
            "2017-10-30 2017-10-30  319.18  323.7800  317.2500  320.08\n",
            "2017-10-27 2017-10-27  319.75  324.5900  316.6600  320.87\n",
            "2017-10-26 2017-10-26  327.78  330.2300  323.2000  326.17\n",
            "2017-10-25 2017-10-25  336.70  337.5000  323.5600  325.84\n",
            "2017-10-24 2017-10-24  338.80  342.8000  336.1600  337.34\n",
            "2017-10-23 2017-10-23  349.88  349.9500  336.2500  337.02\n",
            "2017-10-20 2017-10-20  352.69  354.5500  344.3400  345.10\n",
            "2017-10-19 2017-10-19  355.56  357.1465  348.2000  351.81\n",
            "2017-10-18 2017-10-18  355.97  363.0000  354.1300  359.65\n",
            "2017-10-17 2017-10-17  350.91  356.2200  350.0700  355.75\n",
            "2017-10-16 2017-10-16  353.76  354.4800  347.1600  350.60\n",
            "2017-10-13 2017-10-13  356.98  358.4900  353.6800  355.57\n",
            "2017-10-12 2017-10-12  352.95  359.7800  352.6400  355.68\n",
            "2017-10-11 2017-10-11  353.89  357.6000  351.1500  354.60\n",
            "2017-10-10 2017-10-10  346.80  355.6300  345.5305  355.59\n"
          ]
        },
        {
          "output_type": "stream",
          "name": "stderr",
          "text": [
            "/usr/local/lib/python3.7/dist-packages/ipykernel_launcher.py:2: FutureWarning: Indexing a DataFrame with a datetimelike index using a single string to slice the rows, like `frame[string]`, is deprecated and will be removed in a future version. Use `frame.loc[string]` instead.\n",
            "  \n"
          ]
        }
      ]
    },
    {
      "cell_type": "markdown",
      "source": [
        "#### **5) 시간 간격과 인덱스 - TimedeltaIndex** <br/>\n",
        "주식 데이터에서 최초 5일간 수집된 데이터만 살펴보기 위해 시간 간격을 인덱스로 지정"
      ],
      "metadata": {
        "id": "4rKfOS_a18W_"
      }
    },
    {
      "cell_type": "markdown",
      "source": [
        "> **1. 데이터 수집 이후 시간이 얼마나 흘렀는지 확인** <br/>\n",
        "Date 열에서 Date 열의 최솟값 (2010-06-29)을 뺀 다음 ref_date 열로 추가"
      ],
      "metadata": {
        "id": "jcM4Kvf42QW1"
      }
    },
    {
      "cell_type": "code",
      "source": [
        "tesla['ref_date'] = tesla['Date'] - tesla['Date'].min()\n",
        "print(tesla.head())"
      ],
      "metadata": {
        "colab": {
          "base_uri": "https://localhost:8080/"
        },
        "id": "AdH6wm5h2Ojk",
        "outputId": "9903ec39-4722-4eb7-c9d2-bdfdad552e48"
      },
      "execution_count": 77,
      "outputs": [
        {
          "output_type": "stream",
          "name": "stdout",
          "text": [
            "                 Date    Open    High     Low   Close      Volume  ExDividend  \\\n",
            "Date                                                                            \n",
            "2018-03-27 2018-03-27  304.00  304.27  277.18  279.18  13696168.0         0.0   \n",
            "2018-03-26 2018-03-26  307.34  307.59  291.36  304.18   8324639.0         0.0   \n",
            "2018-03-23 2018-03-23  311.25  311.61  300.45  301.54   6600538.0         0.0   \n",
            "2018-03-22 2018-03-22  313.89  318.82  308.18  309.10   4914307.0         0.0   \n",
            "2018-03-21 2018-03-21  310.25  322.44  310.19  316.53   5927881.0         0.0   \n",
            "\n",
            "            SplitRatio  AdjOpen  AdjHigh  AdjLow  AdjClose   AdjVolume  \\\n",
            "Date                                                                     \n",
            "2018-03-27         1.0   304.00   304.27  277.18    279.18  13696168.0   \n",
            "2018-03-26         1.0   307.34   307.59  291.36    304.18   8324639.0   \n",
            "2018-03-23         1.0   311.25   311.61  300.45    301.54   6600538.0   \n",
            "2018-03-22         1.0   313.89   318.82  308.18    309.10   4914307.0   \n",
            "2018-03-21         1.0   310.25   322.44  310.19    316.53   5927881.0   \n",
            "\n",
            "           ref_date  \n",
            "Date                 \n",
            "2018-03-27 168 days  \n",
            "2018-03-26 167 days  \n",
            "2018-03-23 164 days  \n",
            "2018-03-22 163 days  \n",
            "2018-03-21 162 days  \n"
          ]
        }
      ]
    },
    {
      "cell_type": "markdown",
      "source": [
        "> **2. 시간 간격(ref_date)을 이용해 데이터 추출** <br/>\n",
        "ref_date 열을 인덱스로 지정"
      ],
      "metadata": {
        "id": "SrZ4hLmo210y"
      }
    },
    {
      "cell_type": "code",
      "source": [
        "tesla.index = tesla['ref_date']\n",
        "print(tesla.iloc[:5, :5])"
      ],
      "metadata": {
        "colab": {
          "base_uri": "https://localhost:8080/"
        },
        "id": "jEZ8mmBb3QtQ",
        "outputId": "65e5bb80-31db-4106-8c45-99a2b33bfee9"
      },
      "execution_count": 59,
      "outputs": [
        {
          "output_type": "stream",
          "name": "stdout",
          "text": [
            "               Date    Open    High     Low   Close\n",
            "ref_date                                           \n",
            "168 days 2018-03-27  304.00  304.27  277.18  279.18\n",
            "167 days 2018-03-26  307.34  307.59  291.36  304.18\n",
            "164 days 2018-03-23  311.25  311.61  300.45  301.54\n",
            "163 days 2018-03-22  313.89  318.82  308.18  309.10\n",
            "162 days 2018-03-21  310.25  322.44  310.19  316.53\n"
          ]
        }
      ]
    },
    {
      "cell_type": "markdown",
      "source": [
        "> **3. 데이터 수집 후 최초 5일의 데이터 추출** <br/>"
      ],
      "metadata": {
        "id": "CIA07Es53btf"
      }
    },
    {
      "cell_type": "code",
      "source": [
        "# 4 days는 데이터가 처음부터 없어서 출력되지 않았음\n",
        "\n",
        "print(tesla['5 days':].iloc[:5, :5])"
      ],
      "metadata": {
        "colab": {
          "base_uri": "https://localhost:8080/"
        },
        "id": "pAFQgRsE3fhP",
        "outputId": "2c236125-720d-4934-bf87-903c23c1c560"
      },
      "execution_count": 61,
      "outputs": [
        {
          "output_type": "stream",
          "name": "stdout",
          "text": [
            "               Date    Open    High       Low   Close\n",
            "ref_date                                             \n",
            "3 days   2017-10-13  356.98  358.49  353.6800  355.57\n",
            "2 days   2017-10-12  352.95  359.78  352.6400  355.68\n",
            "1 days   2017-10-11  353.89  357.60  351.1500  354.60\n",
            "0 days   2017-10-10  346.80  355.63  345.5305  355.59\n"
          ]
        }
      ]
    },
    {
      "cell_type": "markdown",
      "source": [
        "#### **6) 시간 범위와 인덱스** <br/>\n",
        "누락된 데이터도 포함시켜 데이터를 살펴보기 위해서는 **임의로 시간 범위를 생성**하여 인덱스 지정"
      ],
      "metadata": {
        "id": "QcyNoZqR4Nhu"
      }
    },
    {
      "cell_type": "markdown",
      "source": [
        "> **1. 에볼라 데이터 집합 불러오기** <br/>\n",
        "2015년 01월 01일, 2014년 3월 23일의 데이터가 누락되어있음을 확인"
      ],
      "metadata": {
        "id": "i2I6bhRf4XUy"
      }
    },
    {
      "cell_type": "code",
      "source": [
        "# 2015년 01년 01일\n",
        "\n",
        "ebola = pd.read_csv('/content/sample_data/country_timeseries.csv', parse_dates=[0])\n",
        "print(ebola.iloc[:5, :5])"
      ],
      "metadata": {
        "colab": {
          "base_uri": "https://localhost:8080/"
        },
        "id": "eFRRTaMc4KJK",
        "outputId": "58e7abc7-9b52-4c3a-a41e-09b7d98b8b3f"
      },
      "execution_count": 89,
      "outputs": [
        {
          "output_type": "stream",
          "name": "stdout",
          "text": [
            "        Date  Day  Cases_Guinea  Cases_Liberia  Cases_SierraLeone\n",
            "0 2015-01-05  289        2776.0            NaN            10030.0\n",
            "1 2015-01-04  288        2775.0            NaN             9780.0\n",
            "2 2015-01-03  287        2769.0         8166.0             9722.0\n",
            "3 2015-01-02  286           NaN         8157.0                NaN\n",
            "4 2014-12-31  284        2730.0         8115.0             9633.0\n"
          ]
        }
      ]
    },
    {
      "cell_type": "code",
      "source": [
        "# 2014년 3월 23일\n",
        "\n",
        "print(ebola.iloc[-5:, :5])"
      ],
      "metadata": {
        "colab": {
          "base_uri": "https://localhost:8080/"
        },
        "id": "NQcs9OA_9yJF",
        "outputId": "988f003a-71e3-4a95-cc56-ca41b8e5b465"
      },
      "execution_count": 90,
      "outputs": [
        {
          "output_type": "stream",
          "name": "stdout",
          "text": [
            "          Date  Day  Cases_Guinea  Cases_Liberia  Cases_SierraLeone\n",
            "117 2014-03-27    5         103.0            8.0                6.0\n",
            "118 2014-03-26    4          86.0            NaN                NaN\n",
            "119 2014-03-25    3          86.0            NaN                NaN\n",
            "120 2014-03-24    2          86.0            NaN                NaN\n",
            "121 2014-03-22    0          49.0            NaN                NaN\n"
          ]
        }
      ]
    },
    {
      "cell_type": "markdown",
      "source": [
        "> **2. 시간 인덱스 생성** <br/>\n",
        "data_range 메서드를 사용하여 2014년 12월 31일부터 2015년 01월 05일 사이의 시간 인덱스 생성"
      ],
      "metadata": {
        "id": "K_ZLCY-F99N1"
      }
    },
    {
      "cell_type": "code",
      "source": [
        "head_range = pd.date_range(start = '2014-12-31', end='2015-01-05')\n",
        "print(head_range)"
      ],
      "metadata": {
        "colab": {
          "base_uri": "https://localhost:8080/"
        },
        "id": "uHqXlAoz-iBn",
        "outputId": "a4157eca-f3fd-4c7b-968e-bda334cb01d0"
      },
      "execution_count": 91,
      "outputs": [
        {
          "output_type": "stream",
          "name": "stdout",
          "text": [
            "DatetimeIndex(['2014-12-31', '2015-01-01', '2015-01-02', '2015-01-03',\n",
            "               '2015-01-04', '2015-01-05'],\n",
            "              dtype='datetime64[ns]', freq='D')\n"
          ]
        }
      ]
    },
    {
      "cell_type": "markdown",
      "source": [
        "> **3. 새로운 ebola 데이터프레임 생성** <br/>\n",
        "원본 데이터 손상을 막기 위해 ebola 데이터프레임의 앞쪽 5개의 데이터를 추출하여 새로운 데이터프레임 생성\n",
        "- Date 열을 인덱스로 먼저 지정하지 않으면 오류 발생\n",
        "- **반드시 Date 열을 인덱스로 지정한 다음 시간 범위를 인덱스로 지정**"
      ],
      "metadata": {
        "id": "Gi_yZUML-qRO"
      }
    },
    {
      "cell_type": "code",
      "source": [
        "ebola_5 = ebola.head()\n",
        "ebola_5.index = ebola_5['Date']\n",
        "ebola_5.reindex(head_range)\n",
        "print(ebola_5.iloc[:5, :5])"
      ],
      "metadata": {
        "colab": {
          "base_uri": "https://localhost:8080/"
        },
        "id": "NTAxuDQU_VC9",
        "outputId": "253ad46f-831c-4973-b524-0c72f9f4ad2a"
      },
      "execution_count": 92,
      "outputs": [
        {
          "output_type": "stream",
          "name": "stdout",
          "text": [
            "                 Date  Day  Cases_Guinea  Cases_Liberia  Cases_SierraLeone\n",
            "Date                                                                      \n",
            "2015-01-05 2015-01-05  289        2776.0            NaN            10030.0\n",
            "2015-01-04 2015-01-04  288        2775.0            NaN             9780.0\n",
            "2015-01-03 2015-01-03  287        2769.0         8166.0             9722.0\n",
            "2015-01-02 2015-01-02  286           NaN         8157.0                NaN\n",
            "2014-12-31 2014-12-31  284        2730.0         8115.0             9633.0\n"
          ]
        }
      ]
    },
    {
      "cell_type": "markdown",
      "source": [
        "> **시간 범위의 주기 설정하기** <br/>\n",
        "시간 범위를 인덱스로 지정하면 생성되는 DatatimeIndex 속성에는 **freq 속성**이 포함되어 있는데,<br/>\n",
        "**freq 속성값을 지정**하면 **시간 간격**을 조절하여 DatetimeIndex 생성 가능\n",
        "- B: 평일만 포함\n",
        "- C: 사용자가 정의하는 평일만 포함\n",
        "- D: 달력 일자 단위\n",
        "- W: 주간 단위\n",
        "- M: 월 마지막 날만 포함\n",
        "- SM: 15일과 월 마지막 날만 포함\n",
        "- BM: M 주기의 값이 휴일이면 제외하고 평일만 포함\n",
        "- CBM: BM에 사용자 정의 평일을 적용\n",
        "- MS: 월 시작일만 포함\n",
        "- SMS: 월 시작일과 15일만 포함\n",
        "- BMS: MS 주기의 값이 휴일이면 제외하고 평일만 포함\n",
        "- CBMS: BMS에 사용자 정의 평일을 적용\n",
        "- Q: 3, 6, 9, 12월 분기 마지막 날만 포함\n",
        "- BQ: 3, 6, 9, 12월 분기 마지막 날이 휴일이면 제외하고 평일만 포함\n",
        "- QS: 3, 6, 9, 12월 분기 시작일만 포함\n",
        "- BQS: 3, 6, 9, 12월 분기 시작일이 휴일이면 제외하고 평일만 포함\n",
        "- A: 년의 마지막 날만 포함\n",
        "- BA: 년의 마지막 날이 휴일이면 제외하고 평일만 포함\n",
        "- AS: 년의 시작일만 포함\n",
        "- BAS: 년의 시작일이 휴일이면 제외하고 평일만 포함\n",
        "- BH: 평일을 시간 단위로 포함 (09:00 ~ 16:00)\n",
        "- H: 시간 단위로 포함 (00:00 ~ 00:00)"
      ],
      "metadata": {
        "id": "bdLuV5ipAAf8"
      }
    },
    {
      "cell_type": "code",
      "source": [],
      "metadata": {
        "id": "jW2krjDHB3R3"
      },
      "execution_count": null,
      "outputs": []
    }
  ]
}